{
 "cells": [
  {
   "cell_type": "markdown",
   "metadata": {},
   "source": [
    "### Datos preliminares"
   ]
  },
  {
   "cell_type": "code",
   "execution_count": 1,
   "metadata": {},
   "outputs": [
    {
     "name": "stdout",
     "output_type": "stream",
     "text": [
      "Requirement already satisfied: pymssql in c:\\users\\administrator\\appdata\\local\\programs\\python\\python312\\lib\\site-packages (2.3.0)\n",
      "Note: you may need to restart the kernel to use updated packages.\n"
     ]
    }
   ],
   "source": [
    "pip install pymssql"
   ]
  },
  {
   "cell_type": "code",
   "execution_count": 2,
   "metadata": {},
   "outputs": [
    {
     "name": "stdout",
     "output_type": "stream",
     "text": [
      "Requirement already satisfied: pyodbc in c:\\users\\administrator\\appdata\\local\\programs\\python\\python312\\lib\\site-packages (5.1.0)\n",
      "Note: you may need to restart the kernel to use updated packages.\n"
     ]
    }
   ],
   "source": [
    "pip install pyodbc"
   ]
  },
  {
   "cell_type": "markdown",
   "metadata": {},
   "source": [
    "### importames y verificamos previas. Verificamos drive instalado y version de Python.\n",
    "Estos pasos no son necesarios, los realizo para verificar con que cuento."
   ]
  },
  {
   "cell_type": "code",
   "execution_count": 4,
   "metadata": {},
   "outputs": [
    {
     "name": "stdout",
     "output_type": "stream",
     "text": [
      "ODBC Drivers installed:\n",
      "SQL Server\n",
      "SQL Server Native Client RDA 11.0\n",
      "ODBC Driver 17 for SQL Server\n",
      "ODBC Driver 18 for SQL Server\n"
     ]
    }
   ],
   "source": [
    "import pyodbc\n",
    "\n",
    "# Verificacion de los drivers instalados (List all ODBC drivers installed.)\n",
    "drivers = pyodbc.drivers()\n",
    "print(\"ODBC Drivers installed:\")\n",
    "for driver in drivers:\n",
    "    print(driver)"
   ]
  },
  {
   "cell_type": "code",
   "execution_count": 5,
   "metadata": {},
   "outputs": [
    {
     "name": "stdout",
     "output_type": "stream",
     "text": [
      "64\n"
     ]
    }
   ],
   "source": [
    "# Pare verificar la version de python, si es de 64 bits\n",
    "import struct\n",
    "print(struct.calcsize(\"P\") * 8)"
   ]
  },
  {
   "cell_type": "markdown",
   "metadata": {},
   "source": [
    "### Ahora si, a lo que vinimos"
   ]
  },
  {
   "cell_type": "markdown",
   "metadata": {},
   "source": [
    "Cadena de conexion tipica"
   ]
  },
  {
   "cell_type": "code",
   "execution_count": null,
   "metadata": {},
   "outputs": [],
   "source": [
    "# Esta es la correccion\n",
    "import pyodbc\n",
    "\n",
    "server = 'OUTREACH-PC\\\\SQLEXPRESS'  # Asegúrate de que el nombre del servidor está correcto\n",
    "database = 'Ubidify'  # El nombre de la base de datos\n",
    "driver = 'ODBC Driver 17 for SQL Server'  # El driver que tienes instalado\n",
    "\n",
    "conn_str = (\n",
    "    f\"DRIVER={{{driver}}};\"\n",
    "    f\"SERVER={server};\"\n",
    "    f\"DATABASE={database};\"\n",
    "    f\"Trusted_Connection=yes;\"\n",
    "    f\"Encrypt=yes;\"\n",
    "    f\"TrustServerCertificate=yes;\"\n",
    ")\n",
    "\n",
    "try:\n",
    "    connection = pyodbc.connect(conn_str)\n",
    "    cursor = connection.cursor()\n",
    "    print(\"Connection successful!\")\n",
    "    print(cursor)\n",
    "    \n",
    "    # Asegúrate de cerrar tus conexiones\n",
    "    cursor.close()\n",
    "    connection.close()\n",
    "except pyodbc.Error as ex:\n",
    "    print(\"Connection failed!\")\n",
    "    print(ex)\n"
   ]
  },
  {
   "cell_type": "markdown",
   "metadata": {},
   "source": [
    "Aquí ampliamos el alcance del script con algunos métodos que desarrollaremos en el punto siguiente, pero en donde puedes asegurarte que tu conexión funciona correctamente mediante la consulta de una tabla."
   ]
  },
  {
   "cell_type": "code",
   "execution_count": null,
   "metadata": {},
   "outputs": [],
   "source": [
    "# Corregido\n",
    "# Cambie los datos en server y agregue un {} en driver\n",
    "server = 'OUTREACH-PC\\\\SQLEXPRESS'  # Asegúrate de que el server name sea el indicado\n",
    "database = 'Ubidify'  # El nombre de la base de datos\n",
    "driver = 'ODBC Driver 17 for SQL Server'  # Cambia por el driver disponible en tu sistema\n",
    "\n",
    "try:\n",
    "    # Crear cadena de conexión usando f-string\n",
    "    conexion = pyodbc.connect(f'DRIVER={{{driver}}};SERVER={server};DATABASE={database};Trusted_Connection=yes;')\n",
    "    # Crear cursor\n",
    "    cursor = conexion.cursor()\n",
    "    # Realiza alguna operación, por ejemplo, una consulta simple\n",
    "    cursor.execute(\"SELECT TOP 10 * FROM Viajes\")  # Cambia 'Viajes' por una tabla real en tu DB\n",
    "    for row in cursor.fetchall():\n",
    "        print(row)\n",
    "    # Cierra cursor y conexión\n",
    "    cursor.close()\n",
    "    conexion.close()\n",
    "except Exception as e:\n",
    "    print(f\"Error: {e}\")"
   ]
  }
 ],
 "metadata": {
  "kernelspec": {
   "display_name": "Python 3",
   "language": "python",
   "name": "python3"
  },
  "language_info": {
   "codemirror_mode": {
    "name": "ipython",
    "version": 3
   },
   "file_extension": ".py",
   "mimetype": "text/x-python",
   "name": "python",
   "nbconvert_exporter": "python",
   "pygments_lexer": "ipython3",
   "version": "3.12.4"
  }
 },
 "nbformat": 4,
 "nbformat_minor": 2
}
