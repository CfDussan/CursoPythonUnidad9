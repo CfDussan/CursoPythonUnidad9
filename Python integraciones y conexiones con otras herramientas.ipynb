{
 "cells": [
  {
   "cell_type": "markdown",
   "metadata": {},
   "source": [
    "# DAM4L9 | Python: integraciones y conexiones con otras herramientas"
   ]
  },
  {
   "cell_type": "markdown",
   "metadata": {},
   "source": [
    "## Consultas básicas SQL en Python"
   ]
  },
  {
   "cell_type": "markdown",
   "metadata": {},
   "source": [
    "#### Sintaxis de SQL en Python"
   ]
  },
  {
   "cell_type": "markdown",
   "metadata": {},
   "source": [
    "Cuando trabajamos con bases de datos utilizando Python, es común conectar Python a distintos Sistemas de Gestión de Bases de Datos (DBMS por sus siglas en inglés) como SQL Server, MySQL, PostgreSQL, entre otros. Cada uno de estos DBMS utiliza SQL como su lenguaje de consulta, pero existen variaciones sutiles en la sintaxis y en las funciones soportadas que pueden llevar a errores si no se consideran cuidadosamente. Vamos a explorar algunas de estas diferencias y cómo pueden afectar tus consultas cuando trabajas desde Python."
   ]
  },
  {
   "cell_type": "markdown",
   "metadata": {},
   "source": [
    "Caso de negocio: UBIDIFY\n",
    "\n",
    "\n",
    "Ubidify es una empresa emergente en el sector del transporte compartido, que busca innovar en la forma en que las personas se movilizan en las áreas urbanas. Utilizando una plataforma tecnológica avanzada, Ubidify conecta a pasajeros con conductores de vehículos registrados en tiempo real, ofreciendo una alternativa segura, confiable y conveniente al transporte público tradicional. Con una interfaz amigable y un sistema de tarifas competitivo, Ubidify aspira a mejorar la experiencia de transporte en la ciudad, reduciendo tiempos de espera y personalizando el servicio de movilidad."
   ]
  },
  {
   "cell_type": "markdown",
   "metadata": {},
   "source": [
    "Objetivos generales\n",
    "\n",
    "Se espera que como analista puedas:\n",
    "\n",
    "• Generar un entendimiento profundo del modelo de datos proporcionado por Ubidify, incluyendo las relaciones entre las diferentes tablas y cómo estas relaciones afectan la integridad y el análisis de los datos.\n",
    "\n",
    "• Crear scripts que permiten realizar conexiones a las BD de datos de Ubidify y a partir de ellos automatizar ciertos procesos de extracción de datos.\n",
    "\n",
    "• Manipular y gestionar la base de datos de Ubidify utilizando Python. Esto incluye realizar consultas SQL, creando df para extraer insights y responder a preguntas de negocio específicas.\n",
    "\n",
    "Para avanzar en este caso deberás utilizar SQL Server tal como aprendimos en módulos anteriores "
   ]
  },
  {
   "cell_type": "markdown",
   "metadata": {},
   "source": [
    "#### Consultas básicas SQL (Python)"
   ]
  },
  {
   "cell_type": "markdown",
   "metadata": {},
   "source": [
    "Sintaxis SQL\n",
    "\n",
    "Como aprendimos en módulos anteriores, SQL (Structured Query Language) es un lenguaje de programación diseñado para gestionar y manipular bases de datos relacionales. \n",
    "\n",
    "Como analistas de datos por lo general, utilizaremos SQL para consultar datos almacenados en una base de datos."
   ]
  },
  {
   "cell_type": "markdown",
   "metadata": {},
   "source": [
    "Esto facilita la automatización de tareas y el análisis de grandes volúmenes de datos, realizando cargas y pequeñas transformaciones mediante un script. Existen algunos módulos necesarios para trabajar con cada tipo de BD de datos relacionales y no relacione"
   ]
  },
  {
   "cell_type": "markdown",
   "metadata": {},
   "source": [
    "PostgreSQL\n",
    "\n",
    "Para el caso de PostgreSQL se utiliza:\n",
    "\n",
    "pip install psycopg2"
   ]
  },
  {
   "cell_type": "markdown",
   "metadata": {},
   "source": [
    "MySQL\n",
    "Para el caso de MySQL se utiliza:\n",
    "\n",
    "pip install mysql-connector-python\n",
    "\n",
    "- Otra opción\n",
    "\n",
    "pip install PyMySQL"
   ]
  },
  {
   "cell_type": "markdown",
   "metadata": {},
   "source": [
    "##### Veamos cómo conectarnos desde Python con SQL Server"
   ]
  },
  {
   "cell_type": "markdown",
   "metadata": {},
   "source": [
    "Esta conexión puede realizarse utilizando dos módulos distintos,  pymssql o pyodbc. La elección depende de varios factores, incluidos la preferencia personal, las necesidades específicas del proyecto, y las características de cada módulo. \n",
    "\n",
    "En esta clase en particular utilizaremos pyodbc, debido a los siguientes factores:\n",
    "\n",
    "• Versatilidad: pyodbc permite conexiones a múltiples bases de datos que soporten ODBC*, no solo SQL Server. Esto es útil en entornos donde se trabaja con varias bases de datos.\n",
    "\n",
    "• Ampliamente adoptado: es ampliamente usado en la industria, lo que significa que hay más ejemplos y más apoyo comunitario.\n",
    "\n",
    "• Características avanzadas: soporta funcionalidades más avanzadas gracias a su integración con ODBC, como la configuración detallada de conexiones y el manejo avanzado de tipos de datos."
   ]
  },
  {
   "cell_type": "markdown",
   "metadata": {},
   "source": [
    "*ODBC es una interfaz de nivel de llamada que permite que las aplicaciones tengan acceso a los datos de cualquier base de datos en la que haya un controlador ODBC. Puedes obtener más información https://learn.microsoft.com/es-es/cpp/data/odbc/odbc-basics?view=msvc-170\n",
    "https://learn.microsoft.com/es-es/sql/connect/python/pymssql/python-sql-driver-pymssql?view=sql-server-ver16"
   ]
  },
  {
   "cell_type": "markdown",
   "metadata": {},
   "source": [
    "Recuerda primero instalar con pip, puedes hacerlo de la siguiente manera, como hemos ido aprendiendo durante este módulo "
   ]
  },
  {
   "cell_type": "code",
   "execution_count": 14,
   "metadata": {},
   "outputs": [
    {
     "name": "stdout",
     "output_type": "stream",
     "text": [
      "Requirement already satisfied: pymssql in c:\\users\\administrator\\appdata\\local\\programs\\python\\python312\\lib\\site-packages (2.3.0)\n",
      "Note: you may need to restart the kernel to use updated packages.\n"
     ]
    }
   ],
   "source": [
    "pip install pymssql"
   ]
  },
  {
   "cell_type": "code",
   "execution_count": 20,
   "metadata": {},
   "outputs": [
    {
     "name": "stdout",
     "output_type": "stream",
     "text": [
      "Requirement already satisfied: pyodbc in c:\\users\\administrator\\appdata\\local\\programs\\python\\python312\\lib\\site-packages (5.1.0)\n",
      "Note: you may need to restart the kernel to use updated packages.\n"
     ]
    }
   ],
   "source": [
    "pip install pyodbc"
   ]
  },
  {
   "cell_type": "markdown",
   "metadata": {},
   "source": [
    "Una vez instalada la librería, podremos comenzar a elaborar el script que permite conectar la BD con python, en este punto profundizaremos específicamente en la conexión y en los puntos siguientes desarrollaremos cursor(), for(), print(), close().\n",
    "De todas formas es necesario que ejecutes el script completo, realizando algunos cambios en las variables, para probar tu conexión.\n",
    "Como en cada tarea que ejecutemos en python, es importante comenzar importando las librerías necesarias, en este caso pyodbc."
   ]
  },
  {
   "cell_type": "markdown",
   "metadata": {},
   "source": [
    "Como en cada tarea que ejecutemos en python, es importante comenzar importando las librerías necesarias, en este caso pyodbc."
   ]
  },
  {
   "cell_type": "code",
   "execution_count": 21,
   "metadata": {},
   "outputs": [],
   "source": [
    "import pyodbc"
   ]
  },
  {
   "cell_type": "markdown",
   "metadata": {},
   "source": [
    "Al trabajar con Python para conectar con SQL Server, es fundamental comprender los componentes esenciales de lo que se denomina “cadena de conexión”, particularmente los términos server, database, y driver. Cada uno de estos juega un papel crucial en el establecimiento de una conexión efectiva y segura entre tu script de Python y la base de datos SQL Server. Veamos cada uno a continuación:"
   ]
  },
  {
   "cell_type": "markdown",
   "metadata": {},
   "source": [
    "1️⃣ Server\n",
    "El server especifica la dirección del servidor donde reside la base de datos SQL Server. Puede ser un nombre de servidor, una dirección IP, o localhost si el servidor se encuentra en la misma máquina que el cliente que intenta hacer la conexión.\n",
    "Consideraciones:\n",
    "• Accesibilidad: el servidor debe estar accesible desde la máquina donde se ejecuta Python. Si estás en un entorno de red, verifica que no haya firewalls o políticas de red que bloqueen el acceso.\n",
    "• Nombre del Servidor: en ambientes de desarrollo, es común usar localhost. Para producción o entornos distribuidos, es más probable que necesites una dirección IP o un nombre de dominio completamente calificado.\n",
    "• Instancias nombradas: SQL Server permite múltiples instancias en el mismo servidor. Si estás utilizando una instancia nombrada (por ejemplo, DESKTOP-XXXX\\SQLEXPRESS), asegúrate de que está correctamente especificada en tu cadena de conexión."
   ]
  },
  {
   "cell_type": "markdown",
   "metadata": {},
   "source": [
    "2️⃣ Database\n",
    "El término database refiere al nombre de la base de datos específica en SQL Server a la cual deseas conectarte. Esta debe estar creada previamente en SQL Server antes de intentar conectarte desde Python. En nuestro caso debe ser ‘Ubidify’.\n",
    "Consideraciones:\n",
    "• Existencia: la base de datos debe existir. Intentar conectarse a una base de datos que no existe resultará en errores.\n",
    "• Permisos: el usuario con el que intentas conectarte debe tener los permisos adecuados para acceder a la base de datos especificada. Esto incluye permisos para leer, escribir y realizar cualquier otra operación necesaria para tu aplicación.\n",
    "\n",
    "3️⃣ Driver\n",
    "El driver es quizás el componente más técnico de la cadena de conexión. Es el software que facilita la comunicación entre Python y el servidor SQL Server. El driver debe estar instalado y configurado correctamente en la máquina cliente.\n",
    "Consideraciones:\n",
    "• Compatibilidad: asegúrate de que el driver que estás utilizando es compatible con la versión de SQL Server a la que estás intentando conectarte. Por ejemplo, \"ODBC Driver 17 for SQL Server\" es compatible con versiones modernas de SQL Server.\n",
    "• Instalación: el driver debe estar instalado correctamente en el sistema cliente. Para SQL Server, normalmente esto significa instalar uno de los drivers ODBC proporcionados por Microsoft.\n",
    "• Especificar el driver correcto: la cadena de conexión debe referirse al nombre exacto del driver instalado. Un error común es especificar un nombre de driver incorrecto o desactualizado, lo cual impedirá la conexión."
   ]
  },
  {
   "cell_type": "markdown",
   "metadata": {},
   "source": [
    "Ejemplo de cadena de conexión\n",
    "\n",
    "Aquí tienes un ejemplo de cómo se vería una cadena de conexión típica utilizando pyodbc:"
   ]
  },
  {
   "cell_type": "markdown",
   "metadata": {},
   "source": [
    "Aquí tienes un ejemplo de cómo se vería una cadena de conexión típica utilizando pyodbc:"
   ]
  },
  {
   "cell_type": "code",
   "execution_count": 17,
   "metadata": {},
   "outputs": [
    {
     "ename": "InterfaceError",
     "evalue": "('IM002', '[IM002] [Microsoft][ODBC Driver Manager] Data source name not found and no default driver specified (0) (SQLDriverConnect)')",
     "output_type": "error",
     "traceback": [
      "\u001b[1;31m---------------------------------------------------------------------------\u001b[0m",
      "\u001b[1;31mInterfaceError\u001b[0m                            Traceback (most recent call last)",
      "Cell \u001b[1;32mIn[17], line 6\u001b[0m\n\u001b[0;32m      3\u001b[0m driver \u001b[38;5;241m=\u001b[39m \u001b[38;5;124m'\u001b[39m\u001b[38;5;124mODBC Driver 17 for SQL Server\u001b[39m\u001b[38;5;124m'\u001b[39m  \u001b[38;5;66;03m# El driver que tienes instalado\u001b[39;00m\n\u001b[0;32m      5\u001b[0m conn_str \u001b[38;5;241m=\u001b[39m \u001b[38;5;124mf\u001b[39m\u001b[38;5;124m'\u001b[39m\u001b[38;5;124mDRIVER=\u001b[39m\u001b[38;5;130;01m{{\u001b[39;00m\u001b[38;5;124mdriver\u001b[39m\u001b[38;5;130;01m}}\u001b[39;00m\u001b[38;5;124m;SERVER=\u001b[39m\u001b[38;5;132;01m{\u001b[39;00mserver\u001b[38;5;132;01m}\u001b[39;00m\u001b[38;5;124m;DATABASE=\u001b[39m\u001b[38;5;132;01m{\u001b[39;00mdatabase\u001b[38;5;132;01m}\u001b[39;00m\u001b[38;5;124m;Trusted_Connection=yes;\u001b[39m\u001b[38;5;124m'\u001b[39m\n\u001b[1;32m----> 6\u001b[0m connection \u001b[38;5;241m=\u001b[39m \u001b[43mpyodbc\u001b[49m\u001b[38;5;241;43m.\u001b[39;49m\u001b[43mconnect\u001b[49m\u001b[43m(\u001b[49m\u001b[43mconn_str\u001b[49m\u001b[43m)\u001b[49m\n\u001b[0;32m      7\u001b[0m cursor \u001b[38;5;241m=\u001b[39m connection\u001b[38;5;241m.\u001b[39mcursor()\n\u001b[0;32m      8\u001b[0m \u001b[38;5;28mprint\u001b[39m(cursor)\n",
      "\u001b[1;31mInterfaceError\u001b[0m: ('IM002', '[IM002] [Microsoft][ODBC Driver Manager] Data source name not found and no default driver specified (0) (SQLDriverConnect)')"
     ]
    }
   ],
   "source": [
    "server = 'LAPTOP-1BRQB67\\\\SQLEXPRESS'  # Asegúrate de que el nombre del servidor está correcto\n",
    "database = 'Ubidify'  # El nombre de la base de datos\n",
    "driver = 'ODBC Driver 17 for SQL Server'  # El driver que tienes instalado\n",
    "\n",
    "conn_str = f'DRIVER={{driver}};SERVER={server};DATABASE={database};Trusted_Connection=yes;'\n",
    "connection = pyodbc.connect(conn_str)\n",
    "cursor = connection.cursor()\n",
    "print(cursor)\n",
    "# Asegúrate de cerrar tus conexiones\n",
    "cursor.close()\n",
    "connection.close()\n"
   ]
  },
  {
   "cell_type": "code",
   "execution_count": 5,
   "metadata": {},
   "outputs": [
    {
     "name": "stdout",
     "output_type": "stream",
     "text": [
      "Requirement already satisfied: pyodbc in c:\\users\\administrator\\appdata\\local\\programs\\python\\python312\\lib\\site-packages (5.1.0)\n",
      "Note: you may need to restart the kernel to use updated packages.\n"
     ]
    }
   ],
   "source": [
    "pip install pyodbc"
   ]
  },
  {
   "cell_type": "code",
   "execution_count": 7,
   "metadata": {},
   "outputs": [
    {
     "name": "stdout",
     "output_type": "stream",
     "text": [
      "ODBC Drivers installed:\n",
      "SQL Server\n",
      "SQL Server Native Client RDA 11.0\n",
      "ODBC Driver 17 for SQL Server\n",
      "ODBC Driver 18 for SQL Server\n"
     ]
    }
   ],
   "source": [
    "import pyodbc\n",
    "\n",
    "# List all ODBC drivers installed. Verificacion de los drivers instalados,\n",
    "drivers = pyodbc.drivers()\n",
    "print(\"ODBC Drivers installed:\")\n",
    "for driver in drivers:\n",
    "    print(driver)\n"
   ]
  },
  {
   "cell_type": "code",
   "execution_count": 1,
   "metadata": {},
   "outputs": [
    {
     "name": "stdout",
     "output_type": "stream",
     "text": [
      "64\n"
     ]
    }
   ],
   "source": [
    "# Pare verificar la version de python, si es de 64 bits\n",
    "import struct\n",
    "print(struct.calcsize(\"P\") * 8)"
   ]
  },
  {
   "cell_type": "code",
   "execution_count": 12,
   "metadata": {},
   "outputs": [
    {
     "ename": "InterfaceError",
     "evalue": "('IM002', '[IM002] [Microsoft][ODBC Driver Manager] Data source name not found and no default driver specified (0) (SQLDriverConnect)')",
     "output_type": "error",
     "traceback": [
      "\u001b[1;31m---------------------------------------------------------------------------\u001b[0m",
      "\u001b[1;31mInterfaceError\u001b[0m                            Traceback (most recent call last)",
      "Cell \u001b[1;32mIn[12], line 7\u001b[0m\n\u001b[0;32m      4\u001b[0m driver \u001b[38;5;241m=\u001b[39m \u001b[38;5;124m'\u001b[39m\u001b[38;5;124mODBC Driver 17 for SQL Server\u001b[39m\u001b[38;5;124m'\u001b[39m  \u001b[38;5;66;03m# El driver que tienes instalado\u001b[39;00m\n\u001b[0;32m      6\u001b[0m conn_str \u001b[38;5;241m=\u001b[39m \u001b[38;5;124mf\u001b[39m\u001b[38;5;124m'\u001b[39m\u001b[38;5;124mDRIVER=\u001b[39m\u001b[38;5;130;01m{{\u001b[39;00m\u001b[38;5;124mdriver\u001b[39m\u001b[38;5;130;01m}}\u001b[39;00m\u001b[38;5;124m;SERVER=\u001b[39m\u001b[38;5;132;01m{\u001b[39;00mserver\u001b[38;5;132;01m}\u001b[39;00m\u001b[38;5;124m;DATABASE=\u001b[39m\u001b[38;5;132;01m{\u001b[39;00mdatabase\u001b[38;5;132;01m}\u001b[39;00m\u001b[38;5;124m;Trusted_Connection=yes;\u001b[39m\u001b[38;5;124m'\u001b[39m\n\u001b[1;32m----> 7\u001b[0m connection \u001b[38;5;241m=\u001b[39m \u001b[43mpyodbc\u001b[49m\u001b[38;5;241;43m.\u001b[39;49m\u001b[43mconnect\u001b[49m\u001b[43m(\u001b[49m\u001b[43mconn_str\u001b[49m\u001b[43m)\u001b[49m\n\u001b[0;32m      8\u001b[0m cursor \u001b[38;5;241m=\u001b[39m connection\u001b[38;5;241m.\u001b[39mcursor()\n\u001b[0;32m      9\u001b[0m \u001b[38;5;28mprint\u001b[39m(cursor)\n",
      "\u001b[1;31mInterfaceError\u001b[0m: ('IM002', '[IM002] [Microsoft][ODBC Driver Manager] Data source name not found and no default driver specified (0) (SQLDriverConnect)')"
     ]
    }
   ],
   "source": [
    "# No funciono, lo corregi abajo con ayuda de chat.\n",
    "import pyodbc\n",
    "server = 'OUTREACH-PC\\\\SQLEXPRESS'  # Asegúrate de que el nombre del servidor está correcto\n",
    "database = 'Ubidify'  # El nombre de la base de datos\n",
    "driver = 'ODBC Driver 17 for SQL Server'  # El driver que tienes instalado\n",
    "\n",
    "conn_str = f'DRIVER={{driver}};SERVER={server};DATABASE={database};Trusted_Connection=yes;'\n",
    "connection = pyodbc.connect(conn_str)\n",
    "cursor = connection.cursor()\n",
    "print(cursor)\n",
    "# Asegúrate de cerrar tus conexiones\n",
    "cursor.close()\n",
    "connection.close()\n"
   ]
  },
  {
   "cell_type": "code",
   "execution_count": 13,
   "metadata": {},
   "outputs": [
    {
     "name": "stdout",
     "output_type": "stream",
     "text": [
      "Connection successful!\n",
      "<pyodbc.Cursor object at 0x000001FCE404C530>\n"
     ]
    }
   ],
   "source": [
    "# Esta es la correccion\n",
    "import pyodbc\n",
    "\n",
    "server = 'OUTREACH-PC\\\\SQLEXPRESS'  # Asegúrate de que el nombre del servidor está correcto\n",
    "database = 'Ubidify'  # El nombre de la base de datos\n",
    "driver = 'ODBC Driver 17 for SQL Server'  # El driver que tienes instalado\n",
    "\n",
    "conn_str = (\n",
    "    f\"DRIVER={{{driver}}};\"\n",
    "    f\"SERVER={server};\"\n",
    "    f\"DATABASE={database};\"\n",
    "    f\"Trusted_Connection=yes;\"\n",
    "    f\"Encrypt=yes;\"\n",
    "    f\"TrustServerCertificate=yes;\"\n",
    ")\n",
    "\n",
    "try:\n",
    "    connection = pyodbc.connect(conn_str)\n",
    "    cursor = connection.cursor()\n",
    "    print(\"Connection successful!\")\n",
    "    print(cursor)\n",
    "    \n",
    "    # Asegúrate de cerrar tus conexiones\n",
    "    cursor.close()\n",
    "    connection.close()\n",
    "except pyodbc.Error as ex:\n",
    "    print(\"Connection failed!\")\n",
    "    print(ex)\n"
   ]
  },
  {
   "cell_type": "markdown",
   "metadata": {},
   "source": [
    "Aquí ampliamos el alcance del script con algunos métodos que desarrollaremos en el punto siguiente, pero en donde puedes asegurarte que tu conexión funciona correctamente mediante la consulta de una tabla."
   ]
  },
  {
   "cell_type": "code",
   "execution_count": 14,
   "metadata": {},
   "outputs": [
    {
     "name": "stdout",
     "output_type": "stream",
     "text": [
      "Error: ('IM002', '[IM002] [Microsoft][ODBC Driver Manager] Data source name not found and no default driver specified (0) (SQLDriverConnect)')\n"
     ]
    }
   ],
   "source": [
    "server = 'LAPTOP-1BRQB67\\\\SQLEXPRESS'  # Asegúrate de que el server name sea el indicado\n",
    "database = 'Ubidify'  # El nombre de la base de datos\n",
    "driver = 'ODBC Driver 17 for SQL Server'  # Cambia por el driver disponible en tu sistema\n",
    "\n",
    "try:\n",
    "    # Crear cadena de conexión usando f-string\n",
    "    conexion = pyodbc.connect(f'DRIVER={{driver}};SERVER={server};DATABASE={database};Trusted_Connection=yes;')\n",
    "    # Crear cursor\n",
    "    cursor = conexion.cursor()\n",
    "    # Realiza alguna operación, por ejemplo, una consulta simple\n",
    "    cursor.execute(\"SELECT TOP 10 * FROM Viajes\")  # Cambia 'Viajes' por una tabla real en tu DB\n",
    "    for row in cursor.fetchall():\n",
    "        print(row)\n",
    "    # Cierra cursor y conexión\n",
    "    cursor.close()\n",
    "    conexion.close()\n",
    "except Exception as e:\n",
    "    print(f\"Error: {e}\")\n"
   ]
  },
  {
   "cell_type": "code",
   "execution_count": 15,
   "metadata": {},
   "outputs": [
    {
     "name": "stdout",
     "output_type": "stream",
     "text": [
      "(1, 1, 1, datetime.datetime(2022, 3, 1, 8, 0), datetime.datetime(2022, 3, 1, 8, 30), Decimal('150.00'))\n",
      "(2, 2, 2, datetime.datetime(2022, 3, 1, 9, 0), datetime.datetime(2022, 3, 1, 9, 45), Decimal('200.00'))\n",
      "(3, 3, 3, datetime.datetime(2022, 3, 2, 10, 0), datetime.datetime(2022, 3, 2, 10, 30), Decimal('120.00'))\n",
      "(4, 2, 2, datetime.datetime(2022, 1, 1, 8, 15), datetime.datetime(2022, 1, 1, 8, 45), Decimal('70.70'))\n",
      "(5, 3, 3, datetime.datetime(2022, 1, 1, 8, 30), datetime.datetime(2022, 1, 1, 9, 0), Decimal('119.01'))\n",
      "(6, 4, 4, datetime.datetime(2022, 1, 1, 8, 45), datetime.datetime(2022, 1, 1, 9, 15), Decimal('109.14'))\n",
      "(7, 5, 5, datetime.datetime(2022, 1, 1, 9, 0), datetime.datetime(2022, 1, 1, 9, 30), Decimal('76.42'))\n",
      "(8, 6, 6, datetime.datetime(2022, 1, 1, 9, 15), datetime.datetime(2022, 1, 1, 9, 45), Decimal('124.68'))\n",
      "(9, 7, 7, datetime.datetime(2022, 1, 1, 9, 30), datetime.datetime(2022, 1, 1, 10, 0), Decimal('137.40'))\n",
      "(10, 8, 8, datetime.datetime(2022, 1, 1, 9, 45), datetime.datetime(2022, 1, 1, 10, 15), Decimal('147.16'))\n"
     ]
    }
   ],
   "source": [
    "# Corregido\n",
    "# Cambie los datos en server y agregue un {} en driver\n",
    "server = 'OUTREACH-PC\\\\SQLEXPRESS'  # Asegúrate de que el server name sea el indicado\n",
    "database = 'Ubidify'  # El nombre de la base de datos\n",
    "driver = 'ODBC Driver 17 for SQL Server'  # Cambia por el driver disponible en tu sistema\n",
    "\n",
    "try:\n",
    "    # Crear cadena de conexión usando f-string\n",
    "    conexion = pyodbc.connect(f'DRIVER={{{driver}}};SERVER={server};DATABASE={database};Trusted_Connection=yes;')\n",
    "    # Crear cursor\n",
    "    cursor = conexion.cursor()\n",
    "    # Realiza alguna operación, por ejemplo, una consulta simple\n",
    "    cursor.execute(\"SELECT TOP 10 * FROM Viajes\")  # Cambia 'Viajes' por una tabla real en tu DB\n",
    "    for row in cursor.fetchall():\n",
    "        print(row)\n",
    "    # Cierra cursor y conexión\n",
    "    cursor.close()\n",
    "    conexion.close()\n",
    "except Exception as e:\n",
    "    print(f\"Error: {e}\")"
   ]
  },
  {
   "cell_type": "markdown",
   "metadata": {},
   "source": [
    "## Conexión a múltiples fuentes de datos"
   ]
  },
  {
   "cell_type": "markdown",
   "metadata": {},
   "source": [
    "Para trabajar eficazmente con bases de datos en Python, especialmente al usar pyodbc para la conexión a sistemas como SQL Server, es esencial comprender algunos métodos clave que facilitan la interacción entre Python y la base de datos. Estos métodos son cruciales para ejecutar consultas y manejar los resultados. "
   ]
  },
  {
   "cell_type": "markdown",
   "metadata": {},
   "source": [
    "A continuación, detallaremos cada uno de estos métodos que permitieron acceder a la tabla “Viajes” del ejemplo del punto anterior.\n",
    "\n",
    "1️⃣ connect()\n",
    "\n",
    "El método connect() de pyodbc es utilizado para establecer una conexión entre Python y una base de datos específica. Es el primer paso necesario para realizar cualquier operación de base de datos y devuelve un objeto de conexión que se utiliza para crear cursores, enviar consultas, y manejar la transacción de la base de datos.\n",
    "\n",
    "Atributos importantes:\n",
    "\n",
    "• DSN (Data Source Name): nombre de la fuente de datos configurada en el administrador de ODBC.\n",
    "\n",
    "• driver: el nombre del driver ODBC que se utilizará, por ejemplo, 'ODBC Driver 17 for SQL Server'.\n",
    "\n",
    "• server: nombre o dirección IP del servidor de la base de datos.\n",
    "\n",
    "• database: nombre de la base de datos a la cual se desea conectar.\n",
    "\n",
    "• uid: nombre de usuario para la autenticación (si es necesario).\n",
    "\n",
    "• pwd: contraseña para la autenticación (si es necesario).\n",
    "\n",
    "• Trusted_Connection: especifica si se utilizará la autenticación de Windows para conectarse a SQL Server.\n",
    "\n",
    "Una vez definidas las variables, este método recibe un f-string con los valores definidos para las mismas."
   ]
  },
  {
   "cell_type": "markdown",
   "metadata": {},
   "source": [
    "2️⃣ cursor()\n",
    "\n",
    "El método cursor() se utiliza para crear un objeto cursor a partir de un objeto de conexión. Este cursor proporciona métodos para ejecutar comandos SQL, desplazarse por los resultados de una consulta y recuperar datos.\n",
    "\n",
    "No recibe parámetros directamente, pero el cursor tiene métodos que son fundamentales para interactuar con la base de datos.\n",
    "\n",
    "El cursor se crea luego de establecer la conexión, el mismo es el que permite que se puedan realizar consultas a la BD."
   ]
  },
  {
   "cell_type": "markdown",
   "metadata": {},
   "source": [
    "3️⃣ execute()\n",
    "\n",
    "Es un método del objeto cursor que se utiliza para ejecutar una consulta SQL. Este método es extremadamente versátil y puede manejar desde simples consultas SELECT hasta procedimientos almacenados y operaciones de inserción, actualización o eliminación.\n",
    "\n",
    "Atributos importantes:\n",
    "\n",
    "•\n",
    "sql: la consulta SQL que se necesita ejecutar.\n",
    "\n",
    "•\n",
    "params: parámetros que se pasarán a la consulta, útiles para prevenir inyecciones SQL y para reutilizar consultas con diferentes valores.\n",
    "\n",
    "4️⃣ fetchall()\n",
    "\n",
    "El método fetchall() se utiliza para obtener todos los registros de la última consulta ejecutada por el cursor. Este método devuelve una lista de tuplas, donde cada tupla representa una fila de los resultados de la consulta."
   ]
  },
  {
   "cell_type": "markdown",
   "metadata": {},
   "source": [
    "6️⃣ Iteración sobre los resultados de la consulta\n",
    "• for row in cursor.fetchall(): después de ejecutar la consulta, cursor.fetchall() recupera todas las filas del conjunto de resultados de la consulta y las devuelve como una lista de tuplas. Cada tupla representa una fila del resultado de la base de datos.\n",
    "\n",
    "• fetchall(): este método es crucial cuando esperas más de una fila como resultado y deseas trabajar con todos los datos juntos. Recoge todos los resultados que ha generado la consulta y permite manejarlos en memoria.\n",
    "\n",
    "• Iteración con el bucle for: el bucle for itera sobre la lista de tuplas devuelta por fetchall(). En cada iteración, la variable row contiene una tupla que representa una fila del resultado de la consulta SQL.\n",
    "\n",
    "Usar un bucle for para iterar sobre los resultados es una manera efectiva de procesar cada fila individualmente, permitiendo al desarrollador acceder y utilizar datos específicos de cada fila (por ejemplo, imprimirlos, procesarlos o realizar cálculos adicionales).\n"
   ]
  },
  {
   "cell_type": "markdown",
   "metadata": {},
   "source": [
    "7️⃣ print(row)\n",
    "\n",
    "Esta línea imprime la fila actual en la consola o terminal. Dado que row es una tupla, la salida será la representación en forma de tupla de cada fila del resultado de la consulta.\n",
    "\n",
    "Imprimir cada fila ayuda en el desarrollo y la depuración al permitir a los desarrolladores y analistas de datos ver los datos exactos que están siendo recuperados por la consulta. Esto es especialmente útil para verificar la corrección de la consulta SQL y la lógica del script."
   ]
  },
  {
   "cell_type": "markdown",
   "metadata": {},
   "source": [
    "#### Ejemplo de análisis"
   ]
  },
  {
   "cell_type": "markdown",
   "metadata": {},
   "source": [
    "Formularemos una consulta SQL que una datos de dos tablas de la base de datos que diseñamos, Ubidify, específicamente de las tablas Usuarios y Viajes. Luego, usando estos datos, crearemos un DataFrame de pandas y elaboraremos un gráfico usando seaborn."
   ]
  },
  {
   "cell_type": "markdown",
   "metadata": {},
   "source": [
    "Consulta SQL\n",
    "\n",
    "Supongamos que queremos analizar la relación entre el número de viajes realizados y la fecha de registro de los usuarios. Esto podría ayudarnos a entender cómo la antigüedad de los usuarios influye en su actividad. Utilizaremos una consulta que une las tablas Usuarios y Viajes mediante la columna ID_Usuario y seleccionaremos algunos campos relevantes:\n",
    "\n",
    "Query en SQL que utilizaremos:\n",
    "\n",
    "SELECT U.Fecha_Registro, COUNT(V.ID_Viaje) as Num_Viajes\n",
    "FROM Usuarios U\n",
    "JOIN Viajes V ON U.ID_Usuario = V.ID_Usuario\n",
    "GROUP BY U.Fecha_Registro\n",
    "ORDER BY U.Fecha_Registro;"
   ]
  },
  {
   "cell_type": "markdown",
   "metadata": {},
   "source": [
    "Usamos Pandas con una consulta SQL Directa en pd.read_sql_query(), la consulta SQL se pasa directamente como una cadena junto con la conexión de pyodbc a pd.read_sql_query(). Pandas puede trabajar con conexiones de pyodbc a través de este método, esto varía levemente con el ejemplo de conexión, ya que no necesitas crear un cursor explícitamente porque pandas maneja la ejecución de la consulta y la recuperación de datos internamente cuando usas read_sql_query().\n",
    "\n",
    "Usamos pd.read_sql_query() porque espera un string de consulta SQL y un objeto de conexión SQLAlchemy o una cadena de conexión URI.\n",
    "\n",
    "Utilizamos seaborn y matplotlib para crear un gráfico lineal que muestra cómo el número de viajes varía con la fecha de registro de los usuarios."
   ]
  },
  {
   "cell_type": "code",
   "execution_count": 8,
   "metadata": {},
   "outputs": [
    {
     "name": "stderr",
     "output_type": "stream",
     "text": [
      "C:\\Users\\Administrator\\AppData\\Local\\Temp\\ipykernel_10392\\1735431689.py:25: UserWarning: pandas only supports SQLAlchemy connectable (engine/connection) or database string URI or sqlite3 DBAPI2 connection. Other DBAPI2 objects are not tested. Please consider using SQLAlchemy.\n",
      "  df = pd.read_sql_query(query, conexion)\n"
     ]
    },
    {
     "name": "stdout",
     "output_type": "stream",
     "text": [
      "  Fecha_Registro  Num_Viajes\n",
      "0     2021-01-02           6\n",
      "1     2021-01-03           6\n",
      "2     2021-01-04           6\n",
      "3     2021-01-05           6\n",
      "4     2021-01-06           6\n"
     ]
    },
    {
     "data": {
      "image/png": "[encoded data removed]",
      "text/plain": [
       "<Figure size 640x480 with 1 Axes>"
      ]
     },
     "metadata": {},
     "output_type": "display_data"
    }
   ],
   "source": [
    "import pyodbc\n",
    "import pandas as pd\n",
    "import seaborn as sns\n",
    "import matplotlib.pyplot as plt\n",
    "\n",
    "# Configuración de la conexión\n",
    "server = 'OUTREACH-PC\\\\SQLEXPRESS'\n",
    "database = 'Ubidify'\n",
    "driver = 'ODBC Driver 17 for SQL Server'\n",
    "\n",
    "try:\n",
    "    # Establecer la conexión\n",
    "    conexion = pyodbc.connect(f'DRIVER={{{driver}}};SERVER={server};DATABASE={database};Trusted_Connection=yes;')\n",
    "\n",
    "    # Consulta SQL\n",
    "    query = \"\"\"\n",
    "    SELECT U.Fecha_Registro, COUNT(V.ID_Viaje) as Num_Viajes\n",
    "    FROM Usuarios U\n",
    "    JOIN Viajes V ON U.ID_Usuario = V.ID_Usuario\n",
    "    GROUP BY U.Fecha_Registro\n",
    "    ORDER BY U.Fecha_Registro;\n",
    "    \"\"\"\n",
    "\n",
    "    # Cargar los resultados en un DataFrame\n",
    "    df = pd.read_sql_query(query, conexion)\n",
    "\n",
    "    # Cerrar conexión\n",
    "    conexion.close()\n",
    "\n",
    "    # Mostrar DataFrame\n",
    "    print(df.head())\n",
    "    \n",
    "    # Crear gráfico\n",
    "    sns.lineplot(data=df, x='Fecha_Registro', y='Num_Viajes')\n",
    "    plt.title('Número de Viajes por Fecha de Registro de Usuario')\n",
    "    plt.xlabel('Fecha de Registro')\n",
    "    plt.ylabel('Número de Viajes')\n",
    "    plt.xticks(rotation=45)\n",
    "    plt.tight_layout()\n",
    "    plt.show()\n",
    "\n",
    "except Exception as e:\n",
    "    print(f\"Error: {e}\")"
   ]
  },
  {
   "cell_type": "code",
   "execution_count": 7,
   "metadata": {},
   "outputs": [
    {
     "name": "stdout",
     "output_type": "stream",
     "text": [
      "     Name  Age\n",
      "0    Alex   10\n",
      "1     Bob   12\n",
      "2  Clarke   13\n"
     ]
    }
   ],
   "source": [
    "import pandas as pd\n",
    "\n",
    "data = [['Alex', 10], ['Bob', 12], ['Clarke', 13]]\n",
    "df = pd.DataFrame(data, columns=['Name', 'Age'])\n",
    "\n",
    "print(df)\n"
   ]
  },
  {
   "cell_type": "markdown",
   "metadata": {},
   "source": [
    "## Integración de Python en Power BI para la creación de scripts y visualizaciones"
   ]
  },
  {
   "cell_type": "markdown",
   "metadata": {},
   "source": [
    "Una de las características más poderosas de Power BI es su capacidad para integrarse con diversas herramientas y fuentes de datos, Python es uno de los lenguajes de programación que pueden ser ejecutados en Power BI . Esta integración permite a los usuarios llevar sus análisis a un nuevo nivel, combinando la flexibilidad y potencia de Python con las capacidades de visualización de Power BI."
   ]
  },
  {
   "cell_type": "markdown",
   "metadata": {},
   "source": [
    "#### Uso de Pandas en Power BI"
   ]
  },
  {
   "cell_type": "markdown",
   "metadata": {},
   "source": [
    "Cuando se trata de integrar Python en Power BI, Pandas entra en juego específicamente cuando se activa el soporte para scripts Python dentro de Power BI. Aquí hay varias razones y formas en que pandas es útil en este contexto:\n",
    "\n",
    "• Transformaciones complejas\n",
    "\n",
    "Aunque Power Query es potente, hay ciertas operaciones de limpieza de datos o transformaciones específicas que son fácilmente manejables o posibles con pandas. Por ejemplo, operaciones complejas de fecha y hora, manipulaciones de texto avanzadas, o cálculos personalizados que dependen de la lógica de programación que es más directamente expresable en Python.\n",
    "\n",
    "• Automatización de procesos\n",
    "\n",
    "Pandas permite automatizar ciertas tareas de manipulación de datos que pueden ser repetitivas y tediosas en Power Query, especialmente cuando se integran datos de múltiples fuentes que requieren una preparación extensiva."
   ]
  },
  {
   "cell_type": "markdown",
   "metadata": {},
   "source": [
    "#### Análisis y modelado de datos"
   ]
  },
  {
   "cell_type": "markdown",
   "metadata": {},
   "source": [
    "Pandas es fundamental para el análisis de datos en Python, proporcionando estructuras de datos y operaciones de manipulación de datos que facilitan el análisis y el modelado estadístico o de machine learning dentro de Power BI usando Python.\n",
    "\n",
    "Permite la integración de bibliotecas de Python como scikit-learn para modelos de machine learning o statsmodels para análisis estadísticos, donde los df de pandas son la estructura de datos estándar."
   ]
  },
  {
   "cell_type": "markdown",
   "metadata": {},
   "source": [
    "#### Visualización de datos avanzada"
   ]
  },
  {
   "cell_type": "markdown",
   "metadata": {},
   "source": [
    "Al usar Python en Power BI para crear visualizaciones, pandas junto con bibliotecas como matplotlib, seaborn, o plotly, se pueden crear gráficos complejos y altamente personalizados que no son directamente posibles con las visualizaciones estándar de Power BI."
   ]
  },
  {
   "cell_type": "markdown",
   "metadata": {},
   "source": [
    "Antes de comenzar, asegúrate de tener configurado tu entorno de Power BI según lo aprendido en la clase anterior. A continuación, crearemos un script en nuestro entorno de desarrollo local de Python, en donde nos aseguraremos de que se ejecute correctamente."
   ]
  },
  {
   "cell_type": "code",
   "execution_count": 9,
   "metadata": {},
   "outputs": [
    {
     "name": "stdout",
     "output_type": "stream",
     "text": [
      "     Name  Age\n",
      "0    Alex   10\n",
      "1     Bob   12\n",
      "2  Clarke   13\n"
     ]
    }
   ],
   "source": [
    "import pandas as pd\n",
    "\n",
    "data = [['Alex', 10], ['Bob', 12], ['Clarke', 13]]\n",
    "df = pd.DataFrame(data, columns=['Name', 'Age'])\n",
    "\n",
    "print(df)\n"
   ]
  },
  {
   "cell_type": "markdown",
   "metadata": {},
   "source": [
    "💻 Cargar datos mediante un script\n",
    "\n",
    "1 En la cinta Inicio, selecciona Obtener datos > Otro. También puedes escribir \"python\" en el buscador.\n",
    "\n",
    "2 Selecciona Otros > script de Python.\n",
    "\n",
    "3 Selecciona Conectar. Tu última versión local de Python instalada se selecciona como tu motor de Python. Copia el script en el cuadro de diálogo de script de Python que aparece.\n",
    "\n",
    "4 Selecciona Aceptar. Si el script se ejecuta correctamente, aparece el Navegador y puedes cargar los datos y utilizarlos. Para el ejemplo, selecciona df, como se muestra en la imagen y, a continuación, Cargar."
   ]
  },
  {
   "cell_type": "markdown",
   "metadata": {},
   "source": [
    "💻 Visualizaciones de python en Power BI\n",
    "\n",
    "1 Selecciona el icono visual de Python en el panel Visualizaciones.\n",
    "\n",
    "2 En el cuadro de diálogo Habilitar objetos visuales de script que aparece, selecciona Habilitar.\n",
    "\n",
    "Al agregar un objeto visual de Python a un informe, Power BI Desktop realiza las siguientes acciones:\n",
    "\n",
    "Aparece una imagen visual de Python de marcador de posición en el lienzo del informe.\n",
    "\n",
    "El editor de scripts de Python aparece en la parte inferior del panel central.\n",
    "\n",
    "3 A continuación, arrastraremos los campos Edad, Niños, Fname, Género, Mascotas, Estado y Peso a la sección Valores donde dice Agregar campos de datos aquí.\n",
    "\n",
    "El script de Python solo puede usar campos agregados a la sección Valores. Podemos agregar o quitar campos de la sección Valores mientras trabajamos en el script. Power BI Desktop detecta automáticamente los cambios de campo.\n",
    "\n",
    "4 Ahora podemos usar los datos para crear un objeto visual.\n",
    "\n",
    "A medida que seleccionamos o eliminamos campos, el código de soporte en el editor de scripts de Python se genera o elimina automáticamente.\n",
    "\n",
    "Se puede acceder a las columnas del conjunto de datos utilizando sus respectivos nombres. Por ejemplo, codificar en el script de Python para acceder al campo de edad.dataset[\"Age\"].\n",
    "\n",
    "5 Con el marco de datos generado automáticamente por los campos, se puede escribir un script de Python que resulte en el trazado predeterminado de Python. Cuando se complete el script, seleccionamos Ejecutar desde la barra de título del editor de scripts de Python."
   ]
  },
  {
   "cell_type": "markdown",
   "metadata": {},
   "source": [
    "💻 Gráfico de dispersión\n",
    "\n",
    "import matplotlib.pyplot as plt\n",
    "\n",
    "dataset.plot(kind='scatter', x='Age', y='Weight', color='red')\n",
    "\n",
    "\n",
    "plt.show()"
   ]
  },
  {
   "cell_type": "markdown",
   "metadata": {},
   "source": [
    "💻 Gráfico de líneas\n",
    "\n",
    "import matplotlib.pyplot as plt \n",
    "\n",
    "\n",
    "ax = plt.gca() \n",
    "\n",
    "dataset.plot(kind='line',x='Fname',y='Children',ax=ax) \n",
    "\n",
    "dataset.plot(kind='line',x='Fname',y='Pets', color='red', ax=ax) \n",
    "\n",
    "\n",
    "plt.show()\n"
   ]
  },
  {
   "cell_type": "markdown",
   "metadata": {},
   "source": [
    "💻 Gráfico de barras\n",
    "\n",
    "import matplotlib.pyplot as plt \n",
    "\n",
    "\n",
    "dataset.plot(kind='bar',x='Fname',y='Age')\n",
    "\n",
    " \n",
    "\n",
    "plt.show()"
   ]
  },
  {
   "cell_type": "markdown",
   "metadata": {},
   "source": [
    "Los objetos visuales de Python en Power BI Desktop tienen algunas limitaciones:\n",
    "\n",
    "Tamaño de datos: si el conjunto de datos de entrada de un objeto visual de Python tiene una columna que contiene un valor de cadena superior a 32766 caracteres, ese valor se trunca.\n",
    "\n",
    "Resolución: todas las imágenes de Python se muestran a 72 DPI (72 pixeles por pulgada).\n",
    "\n",
    "Limitación de tiempo de cálculo: si un cálculo visual de Python supera los cinco minutos, se agota el tiempo de espera de ejecución, lo que resulta en un error.\n",
    "\n",
    "Relaciones: al igual que con otros objetos visuales de Power BI Desktop, si se seleccionan campos de datos de diferentes tablas sin una relación definida entre ellos, se produce un error.\n",
    "\n",
    "Interactividad: los objetos visuales de Python se actualizan tras las actualizaciones de datos, el filtrado y el resaltado. Sin embargo, la imagen en sí no es interactiva y no puede ser la fuente de filtrado cruzado.\n",
    "\n",
    "Filtrado interactivo: los elementos visuales de Python responden a resaltar otros elementos visuales, pero no puede hacer clic en elementos en el objeto visual de Python para filtrar otros elementos.\n",
    "\n",
    "Dispositivo de visualización: solo los gráficos que se trazan en el dispositivo de visualización predeterminado de Python se muestran correctamente en el lienzo. Evite usar explícitamente un dispositivo de visualización Python diferente.\n",
    "\n",
    "Nombres de columnas: los objetos visuales de Python no admiten el cambio de nombre de las columnas de entrada. Las columnas se denominan por su nombre original durante la ejecución del script."
   ]
  },
  {
   "cell_type": "markdown",
   "metadata": {},
   "source": [
    "## Limitaciones y buenas prácticas"
   ]
  },
  {
   "cell_type": "markdown",
   "metadata": {},
   "source": [
    "El análisis de datos ha transformado la manera en que las organizaciones toman decisiones."
   ]
  },
  {
   "cell_type": "markdown",
   "metadata": {},
   "source": [
    "Las herramientas que hemos aprendido, como bases de datos SQL, Power BI, Google Sheets y Python son fundamentales en este proceso, pero cada una tiene sus propias limitaciones y existen buenas prácticas que pueden ayudar a maximizar su eficacia. \n",
    "\n",
    "A continuación, explicaremos estas herramientas bajo tres aspectos críticos: rendimiento, seguridad y mantenibilidad."
   ]
  },
  {
   "cell_type": "markdown",
   "metadata": {},
   "source": [
    "Google Sheets\n",
    "\n",
    "Rendimiento\n",
    "\n",
    "No está diseñado para manejar grandes volúmenes de datos o análisis muy complejos.  Limitar el uso de Google Sheets a análisis de menor escala y datos que no requieran cálculos intensivos\n",
    "\n",
    "Seguridad\n",
    "\n",
    "Al ser un servicio basado en la nube, depende de la seguridad de la cuenta de Google y es susceptible a riesgos de compartición inadecuada de información.  Utilizar la autenticación de dos factores para las cuentas de Google y ser cauteloso al compartir hojas y carpetas.\n",
    "\n",
    "Mantenibilidad\n",
    "\n",
    "Organizar las hojas claramente y mantener la documentación dentro de las propias hojas para explicar fórmulas y datos.\n",
    "\n",
    "Si bien en organizaciones tanto Excel como Google Sheets son muy utilizadas para reportes, a medida que el volumen y la necesidad de actualización crece, es importante considerar migrar los reportes a herramientas como Power BI, Tableau o Looker. Esto permite automatizar la actualización y generar una escala en el volumen de datos a procesar."
   ]
  },
  {
   "cell_type": "markdown",
   "metadata": {},
   "source": [
    "Power BI\n",
    "\n",
    "Rendimiento\n",
    "\n",
    "Power BI puede volverse lento con datasets muy grandes o con muchas visualizaciones complejas en un solo reporte. Aprender a utilizar el Servicio de Power BI en la nube, puede mejorar la capacidad para segmentar los datos y reducir la carga. También es recomendable profundizar en técnicas de modelado de datos eficientes como modelos estrellas o copo de nieve.\n",
    "\n",
    "Seguridad\n",
    "\n",
    "Controlar el acceso a los datos y reportes puede ser un desafío, especialmente en organizaciones grandes. Si bien existen estrategias para poder administrar gran cantidad de usuarios sin aumentar los costos de licenciamiento mediante reportes embebidos, esto puede generar ciertos riesgos de seguridad.\n",
    "\n",
    "Mantenibilidad\n",
    "\n",
    "Crear dashboards y reportes con una estructura clara y documentar los procesos y fuentes de datos utilizados. Desarrollar reportes en Power BI requiere de iteraciones periódicas y refactoring tanto del modelo como del storytelling que poseen los dashboards. Recuerda que al entregar una primera versión de cualquier desarrollo, implica inevitablemente mejoras que deben ser abordadas en el futuro."
   ]
  },
  {
   "cell_type": "markdown",
   "metadata": {},
   "source": [
    "Bases de Datos y SQL\n",
    "\n",
    "Rendimiento\n",
    "\n",
    "Las bases de datos pueden experimentar lentitud con grandes volúmenes de datos o consultas complejas sin una adecuada optimización de índices y consultas. Utilizar índices, optimizar las consultas SQL y regularmente monitorear y ajustar el rendimiento de la base de datos, es fundamental para una utilización óptima. Si bien existe la posibilidad de conectar herramientas de visualización a entornos productivos, esto no es recomendable bajo ningún aspecto, debido a que puede afectar el funcionamiento de la BD transaccional que fue ideada para operar con alguna aplicación. En estos casos se recomienda pensar en réplicas, datalakes, etc.\n",
    "\n",
    "Seguridad\n",
    "\n",
    "La exposición a inyecciones SQL y accesos no autorizados son riesgos significativos si no se gestionan correctamente los permisos y las entradas de datos.\n",
    "\n",
    "Mantenibilidad\n",
    "\n",
    "Se debe mantener un esquema de consulta de base de datos bien documentado, esto permite realizar refactoring o seguimiento de los scripts de SQL que se desarrollan para la elaboración de datasets."
   ]
  },
  {
   "cell_type": "markdown",
   "metadata": {},
   "source": [
    "Python\n",
    "\n",
    "Rendimiento\n",
    "\n",
    "El rendimiento puede ser un problema con el procesamiento de grandes volúmenes de datos debido a que Python es un lenguaje interpretado. Pueden existir problemas relacionados a la capacidad de memoria RAM, bucles infinitos u otro tipo de errores que afecten el rendimiento.\n",
    "\n",
    "Seguridad\n",
    "\n",
    "Scripts mal escritos que se conectan a bases de datos productivas, pueden ser vulnerables a inyecciones de código y ataques de datos. Se deben validar y sanear todas las entradas de datos cuando se ejecuten scripts que interactúan con fuentes externas. Utilizar entornos virtuales para aislar y gestionar dependencias.\n",
    "\n",
    "Mantenibilidad\n",
    "\n",
    "Es importante escribir código limpio y bien documentado, y utilizar control de versiones para gestionar los cambios en el código."
   ]
  }
 ],
 "metadata": {
  "kernelspec": {
   "display_name": "Python 3",
   "language": "python",
   "name": "python3"
  },
  "language_info": {
   "codemirror_mode": {
    "name": "ipython",
    "version": 3
   },
   "file_extension": ".py",
   "mimetype": "text/x-python",
   "name": "python",
   "nbconvert_exporter": "python",
   "pygments_lexer": "ipython3",
   "version": "3.12.4"
  }
 },
 "nbformat": 4,
 "nbformat_minor": 2
}
